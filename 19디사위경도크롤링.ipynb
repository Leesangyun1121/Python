{
 "cells": [
  {
   "cell_type": "code",
   "execution_count": 1,
   "metadata": {},
   "outputs": [
    {
     "name": "stdout",
     "output_type": "stream",
     "text": [
      "크린토피아 코인워시 수원영통점\n",
      "success\n",
      "[{'name': '크린토피아 코인워시 수원영통점', 'Latitude': '37.2488915', 'Longitude': '127.0761652', 'address': '경기도 수원시 영통구 영일로 16'}, {'name': '크린토피아 홈플러스영통점', 'Latitude': '37.2488915', 'Longitude': '127.0761652', 'address': '경기도 수원시 영통구 영일로 16'}, {'name': '크린토피아 코인워시 수원영통로데오점', 'Latitude': '37.2488915', 'Longitude': '127.0761652', 'address': '경기도 수원시 영통구 영일로 16'}, {'name': '워시엔조이 영통경희대점', 'Latitude': '37.2488915', 'Longitude': '127.0761652', 'address': '경기도 수원시 영통구 영일로 16'}, {'name': '펭귄하우스 영통아이파크점', 'Latitude': '37.2488915', 'Longitude': '127.0761652', 'address': '경기도 수원시 영통구 영일로 16'}]\n",
      "5\n"
     ]
    }
   ],
   "source": [
    "shop = {'크린토피아 코인워시 수원영통점':\"경기도 수원시 영통구 영일로 16\",\"크린토피아 홈플러스영통점\":\"경기도 수원시 영통구 봉영로 1576 994-2번지\",\"크린토피아 코인워시 수원영통로데오점\":\"경기도 수원시 영통구 청명북로 5\", \n",
    "\"워시엔조이 영통경희대점\":\"경기도 수원시 영통구 청명로59번길 65\", \n",
    "\"펭귄하우스 영통아이파크점\":\"경기도 수원시 영통구 반달로35번길 30\" }\n",
    "\n",
    "import numpy as np\n",
    "import pandas as pd\n",
    "from urllib.request import urlopen\n",
    "from urllib import parse\n",
    "from urllib.request import Request\n",
    "from urllib.error import HTTPError\n",
    "from bs4 import BeautifulSoup\n",
    "import json\n",
    "\n",
    "client_id = \"l105p84i0s\"\n",
    "client_pw = \"4RiCO1jhHGdzlh2zsW7JxBRjHjr1C5cVviOl2tYD\"\n",
    "api_url = \"https://naveropenapi.apigw.ntruss.com/map-geocode/v2/geocode?query=\"\n",
    "myshop = str(input())\n",
    "add_urlenc = parse.quote(shop[myshop])\n",
    "url = api_url + add_urlenc\n",
    "request = Request(url)\n",
    "request.add_header(\"X-NCP-APIGW-API-KEY-ID\",client_id)\n",
    "request.add_header(\"X-NCP-APIGW-API-KEY\",client_pw)\n",
    "try:\n",
    "    response = urlopen(request)\n",
    "except HTTPError as e:\n",
    "    print(\"http error\")\n",
    "    \n",
    "else:\n",
    "    rescode = response.getcode()\n",
    "    if rescode ==200:\n",
    "        response_body = response.read().decode('utf-8')\n",
    "        response_body = json.loads(response_body)\n",
    "        if 'addresses' in response_body:\n",
    "            latitude = response_body['addresses'][0]['y']\n",
    "            longitude = response_body['addresses'][0]['x']\n",
    "            print(\"success\")\n",
    "        else:\n",
    "            print(\"result not exist\")\n",
    "    else:\n",
    "        print(\"response error\")\n",
    "\n",
    "empty = []\n",
    "for i in shop:\n",
    "    sd = {}\n",
    "    sd[\"name\"] =  i\n",
    "    sd[\"Latitude\"] = response_body['addresses'][0]['y']\n",
    "    sd[\"Longitude\"] = response_body['addresses'][0]['x']\n",
    "    sd[\"address\"] = response_body['addresses'][0]['roadAddress']\n",
    "    empty.append(sd)\n",
    "\n",
    "print(empty)\n",
    "print(len(shop))"
   ]
  },
  {
   "cell_type": "code",
   "execution_count": 19,
   "metadata": {},
   "outputs": [
    {
     "data": {
      "text/plain": [
       "'[{\"Name\": \"크린토피아 코인워시 수원영통점\", \"Latitude\": \"37.2488915\", \"Longitude\": \"127.0761652\", \"Address\": \"경기도 수원시 영통구 영일로 16\"}, {\"Name\": \"크린토피아 홈플러스영통점\", \"Latitude\": \"37.2518332\", \"Longitude\": \"127.0725852\", \"Address\": \"경기도 수원시 영통구 봉영로 1576 영통홈플러스\"}, {\"Name\": \"크린토피아 코인워시 수원영통로데오점\", \"Latitude\": \"37.2522127\", \"Longitude\": \"127.0788490\", \"Address\": \"경기도 수원시 영통구 청명북로 5\"}, {\"Name\": \"워시엔조이 영통경희대점\", \"Latitude\": \"37.2500659\", \"Longitude\": \"127.0796072\", \"Address\": \"경기도 수원시 영통구 청명로59번길 65\"}, {\"Name\": \"펭귄하우스 영통아이파크점\", \"Latitude\": \"37.2518455\", \"Longitude\": \"127.0774668\", \"Address\": \"경기도 수원시 영통구 반달로35번길 30 영통역 아이파크\"}]'"
      ]
     },
     "execution_count": 19,
     "metadata": {},
     "output_type": "execute_result"
    }
   ],
   "source": [
    "from urllib.request import urlopen\n",
    "from urllib import parse\n",
    "from urllib.request import Request\n",
    "from urllib.error import HTTPError\n",
    "from bs4 import BeautifulSoup\n",
    "import json\n",
    "shop = {\"크린토피아 코인워시 수원영통점\":\"경기도 수원시 영통구 영일로 16\",\"크린토피아 홈플러스영통점\":\"경기도 수원시 영통구 봉영로 1576 994-2번지\",\"크린토피아 코인워시 수원영통로데오점\":\"경기도 수원시 영통구 청명북로 5\", \n",
    "\"워시엔조이 영통경희대점\":\"경기도 수원시 영통구 청명로59번길 65\", \n",
    "\"펭귄하우스 영통아이파크점\":\"경기도 수원시 영통구 반달로35번길 30\" }\n",
    "empty = []\n",
    "client_id = \"l105p84i0s\"\n",
    "client_pw = \"4RiCO1jhHGdzlh2zsW7JxBRjHjr1C5cVviOl2tYD\"\n",
    "api_url = \"https://naveropenapi.apigw.ntruss.com/map-geocode/v2/geocode?query=\"\n",
    "for i in shop:    \n",
    "    myshop = i\n",
    "    add_urlenc = parse.quote(shop[myshop])\n",
    "    url = api_url + add_urlenc\n",
    "    request = Request(url)\n",
    "    request.add_header(\"X-NCP-APIGW-API-KEY-ID\",client_id)\n",
    "    request.add_header(\"X-NCP-APIGW-API-KEY\",client_pw)\n",
    "    try:\n",
    "        response = urlopen(request)\n",
    "    except HTTPError as e:\n",
    "        print(\"http error\")\n",
    "    \n",
    "    else:\n",
    "        rescode = response.getcode()\n",
    "        if rescode ==200:\n",
    "            response_body = response.read().decode('utf-8')\n",
    "            response_body = json.loads(response_body)\n",
    "            if 'addresses' in response_body:\n",
    "                latitude = response_body['addresses'][0]['y']\n",
    "                longitude = response_body['addresses'][0]['x']\n",
    "            else:\n",
    "                print(\"result not exist\")\n",
    "        else:\n",
    "            print(\"response error\")\n",
    "    sd = {}\n",
    "    sd[\"Name\"] =  i\n",
    "    sd[\"Latitude\"] = response_body['addresses'][0]['y']\n",
    "    sd[\"Longitude\"] = response_body['addresses'][0]['x']\n",
    "    sd[\"Address\"] = response_body['addresses'][0]['roadAddress']\n",
    "    empty.append(sd)\n",
    "\n",
    "abc = \"[{'Name': '크린토피아 코인워시 수원영통점', 'Latitude': '37.2488915', 'Longitude': '127.0761652', 'Address': '경기도 수원시 영통구 영일로 16'}, {'Name': '크린토피아 홈플러스영통점', 'Latitude': '37.2518332', 'Longitude': '127.0725852', 'Address': '경기도 수원시 영통구 봉영로 1576 영통홈플러스'}, {'Name': '크린토피아 코인워시 수원영통로데오점', 'Latitude': '37.2522127', 'Longitude': '127.0788490', 'Address': '경기도 수원시 영통구 청명북로 5'}, {'Name': '워시엔조이 영통경희대점', 'Latitude': '37.2500659', 'Longitude': '127.0796072', 'Address': '경기도 수원시 영통구 청명로59번길 65'}, {'Name': '펭귄하우스 영통아이파크점', 'Latitude': '37.2518455', 'Longitude': '127.0774668', 'Address': '경기도 수원시 영통구 반달로35번길 30 영통역 아이파크'}]\"\n",
    "abc.replace(\"'\",'\"')"
   ]
  }
 ],
 "metadata": {
  "kernelspec": {
   "display_name": "Python 3",
   "language": "python",
   "name": "python3"
  },
  "language_info": {
   "codemirror_mode": {
    "name": "ipython",
    "version": 3
   },
   "file_extension": ".py",
   "mimetype": "text/x-python",
   "name": "python",
   "nbconvert_exporter": "python",
   "pygments_lexer": "ipython3",
   "version": "3.7.1"
  }
 },
 "nbformat": 4,
 "nbformat_minor": 2
}
