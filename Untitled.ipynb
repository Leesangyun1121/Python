{
 "cells": [
  {
   "cell_type": "code",
   "execution_count": 4,
   "metadata": {},
   "outputs": [
    {
     "name": "stdout",
     "output_type": "stream",
     "text": [
      "+20.00i\n",
      "<class 'str'>\n",
      "16.00+20.00i\n",
      "0.00+0.00i\n",
      "-36.00+160.00i\n",
      "1.00+0.00i\n",
      "12.81+0.00i\n",
      "12.81+0.00i\n"
     ]
    }
   ],
   "source": [
    "import math\n",
    "\n",
    "class Complex(object):\n",
    "    #이름 정하기 ->'이름'=Complex(수(실수부),수(허수부))\n",
    "    def __init__(self, real, img):\n",
    "        self.real = real\n",
    "        self.img = img\n",
    "        \n",
    "    def __add__(self, no):\n",
    "        #객체(self)+객체(no)\n",
    "        addreal = self.real + no.real\n",
    "        addimg = self.img + no.img\n",
    "        if addimg>0:\n",
    "            addimg = \"+%.2fi\"%addimg\n",
    "        elif addimg == 0:\n",
    "            addimg =\"+0.00i\"\n",
    "        else:\n",
    "            addimg = '%.2fi'%addimg\n",
    "        #결과는 str타입으로 반환\n",
    "        return \"%.2f\"%addreal+addimg\n",
    "    def __sub__(self, no):\n",
    "        subreal = self.real - no.real\n",
    "        subimg = self.img - no.img\n",
    "        if subimg>0:\n",
    "            subimg = \"+%.2fi\"%subimg\n",
    "        elif subimg == 0:\n",
    "            subimg =\"+0.00i\"\n",
    "        else:\n",
    "            subimg = '%.2fi'%subimg\n",
    "        return \"%.2f\"%subreal+subimg\n",
    "    def __mul__(self, no):\n",
    "        mulresult = complex(self.real,self.img)*complex(no.real,no.img)\n",
    "        if mulresult.imag>0:\n",
    "            mulimg = \"+%.2fi\"%mulresult.imag\n",
    "        elif mulresult.imag ==0:\n",
    "            mulimg = \"\"\n",
    "        else:\n",
    "            mulimg = '%.2fi'%mulresult.imag\n",
    "        return \"%.2f\"%mulresult.real+mulimg\n",
    "    def __truediv__(self, no):\n",
    "        divresult = complex(self.real,self.img)/complex(no.real,no.img)\n",
    "        if divresult.imag>0:\n",
    "            divimg = \"+%.2fi\"%divresult.imag\n",
    "        elif divresult.imag ==0:\n",
    "            divimg = \"+0.00i\"\n",
    "        else:\n",
    "            divimg = '%.2fi'%divresult.imag\n",
    "        return \"%.2f\"%divresult.real+divimg\n",
    "        \n",
    "    def mod(self):\n",
    "        result = pow(pow(self.real,2)+pow(self.img,2),0.5)\n",
    "        return str(round(result,2))+\"+0.00i\"\n",
    "    def __str__(self):\n",
    "        if self.img == 0:\n",
    "            result = \"%.2f+0.00i\" % (self.real)\n",
    "        elif self.real == 0:\n",
    "            if self.img >= 0:\n",
    "                result = \"0.00+%.2fi\" % (self.img)\n",
    "            else:\n",
    "                result = \"0.00-%.2fi\" % (abs(self.img))\n",
    "        elif self.img > 0:\n",
    "            result = \"%.2f+%.2fi\" % (self.real, self.img)\n",
    "        else:\n",
    "            result = \"%.2f-%.2fi\" % (self.real, abs(self.img))\n",
    "        return result\n",
    "\n",
    "\n",
    "a = Complex(8,10)\n",
    "b = Complex(8,10)\n",
    "print(a+b)\n",
    "print(a-b)\n",
    "print(a*b)\n",
    "print(a/b)\n",
    "print(a.mod())\n",
    "print(b.mod())"
   ]
  },
  {
   "cell_type": "code",
   "execution_count": 6,
   "metadata": {},
   "outputs": [
    {
     "name": "stdout",
     "output_type": "stream",
     "text": [
      "1 1 1\n",
      "3 5 4\n",
      "5 7 2\n",
      "9 8 4\n",
      "[[1.0, 1.0, 1.0], [3.0, 5.0, 4.0], [5.0, 7.0, 2.0], [9.0, 8.0, 4.0]]\n"
     ]
    }
   ],
   "source": [
    "import math\n",
    "\n",
    "class Points(object):\n",
    "    def __init__(self, x, y, z):\n",
    "        self.x = x\n",
    "        self.y = y\n",
    "        self.z = z\n",
    "\n",
    "    def __sub__(self, no):\n",
    "        x = no.x - self.x\n",
    "        y = no.y - self.y\n",
    "        z = no.z - self.z\n",
    "        return Points(x,y,z)\n",
    "\n",
    "    def dot(self, no):\n",
    "        x = self.x*no.x\n",
    "        y = self.y*no.y\n",
    "        z = self.z*no.z\n",
    "        return Points(x,y,z)\n",
    "\n",
    "    def cross(self, no):\n",
    "        x = self.y*no.z-self.z*no.y\n",
    "        y = -(self.x*no.z-self.z*no.x)\n",
    "        z = self.x*no.y-self.y*no.x\n",
    "    def absolute(self):\n",
    "        return pow((self.x ** 2 + self.y ** 2 + self.z ** 2), 0.5)\n",
    "points = list()\n",
    "for i in range(4):\n",
    "    a = list(map(float, input().split()))\n",
    "    points.append(a)\n",
    "\n",
    "a, b, c, d = Points(*points[0]), Points(*points[1]), Points(*points[2]), Points(*points[3])\n",
    "print(points)"
   ]
  },
  {
   "cell_type": "code",
   "execution_count": null,
   "metadata": {},
   "outputs": [],
   "source": [
    "import math\n",
    "\n",
    "class Points(object):\n",
    "    def __init__(self, x, y, z):\n",
    "        self.x = x\n",
    "        self.y = y\n",
    "        self.z = z\n",
    "\n",
    "    def __sub__(self, no):\n",
    "        x = self.x - no.x\n",
    "        y = self.y - no.y\n",
    "        z = self.z - no.z\n",
    "        return Points(x,y,z)\n",
    "\n",
    "    def dot(self, no):\n",
    "        result = self.x*no.x+self.y*no.y+self.z*no.z\n",
    "        return result\n",
    "    def cross(self, no):\n",
    "        x = self.y*no.z-self.z*no.y\n",
    "        y= self.z*no.x-self.x*no.z\n",
    "        z = self.x*no.y-self.y*no.x\n",
    "        return Points(x,y,z)\n",
    "    def absolute(self):\n",
    "        return pow((self.x ** 2 + self.y ** 2 + self.z ** 2), 0.5)\n",
    "    def __str__(self):\n",
    "        return '%f %f %f'%(self.x,self.y,self.z)\n",
    "\n",
    "if __name__ == '__main__':\n",
    "    points = list()\n",
    "    for i in range(4):\n",
    "        a = list(map(float, input().split()))\n",
    "        points.append(a)\n",
    "\n",
    "    a, b, c, d = Points(*points[0]), Points(*points[1]), Points(*points[2]), Points(*points[3])\n",
    "    x = (b - a).cross(c - b)\n",
    "    y = (c - b).cross(d - c)\n",
    "    print(a)\n",
    "    print(b)\n",
    "    print(c)\n",
    "    print(d)\n",
    "    print(b-a)\n",
    "    print(c-b)\n",
    "    print(d-c)\n",
    "    print(x)\n",
    "    print(y)\n",
    "    angle = math.acos(x.dot(y) / (x.absolute() * y.absolute()))\n",
    "\n",
    "    \n",
    "    print(\"%.2f\" % math.degrees(angle))\n",
    "    "
   ]
  },
  {
   "cell_type": "code",
   "execution_count": null,
   "metadata": {},
   "outputs": [],
   "source": [
    "\n",
    "class MyCalendarTwo:\n",
    "    def __init__(self):\n",
    "       \n",
    "        self.array = {}\n",
    "        \n",
    "    def book(self, start: int, end: int) -> bool:\n",
    "        self.count = 0\n",
    "        for i in range(start,end):\n",
    "            if i in self.array:\n",
    "                if self.array[i]==1:\n",
    "                    self.array[i]=2\n",
    "                elif self.array[i]==2:\n",
    "                    self.array[i]=3\n",
    "            elif i not in self.array:\n",
    "                self.array[i] = 1\n",
    "        for i in range(start,end):\n",
    "            \n",
    "            if self.array[i] ==3:\n",
    "                return False\n",
    "            elif self.array[i] !=3:\n",
    "                self.count = self.count + 1\n",
    "        if self.count == end-start:\n",
    "            return True\n",
    "        \n",
    "\n",
    "\n",
    "# Your MyCalendarTwo object will be instantiated and called as such:\n",
    "# obj = MyCalendarTwo()\n",
    "# param_1 = obj.book(start,end)\n",
    "a = MyCalendarTwo()\n",
    "a.book(15,19)\n",
    "a.book(15,78)\n",
    "a.book(15,22)\n",
    "b=MyCalendarTwo()\n",
    "b.book(15,99)\n",
    "a.book(19,21)\n",
    "c = MyCalendarTwo()\n",
    "c.book(26,35)\n",
    "c.book(26,32)\n",
    "c.book(25,32)\n",
    "c.book(18,26)\n",
    "c.book(40,45)\n",
    "c.book(19,26)\n",
    "c.array"
   ]
  },
  {
   "cell_type": "code",
   "execution_count": null,
   "metadata": {},
   "outputs": [],
   "source": [
    "class myFile:\n",
    "    def __init__(self,title=None,mode=None):\n",
    "        self.title = title\n",
    "        self.mode = mode\n",
    "        self.List = [] \n",
    "        if self.mode =='r':\n",
    "            with open(self.title,self.mode) as f:\n",
    "                self.List = sorted(f.readlines())\n",
    "        elif self.mode == 'w':\n",
    "            f = open(self.title,'r')\n",
    "            self.List = file.readlines()\n",
    "        try:\n",
    "            f = open(self.title,self.mode)\n",
    "        except TypeError:\n",
    "            print('에러:제목과 모드 정확히 입력')\n",
    "            \n",
    "    def getStatus(self):\n",
    "        if self.List !=[]:\n",
    "            return True\n",
    "        else:\n",
    "            return False\n",
    "        \n",
    "\n",
    "    def getBody(self):\n",
    "        with open(self.title,self.mode) as f:\n",
    "            \n"
   ]
  },
  {
   "cell_type": "code",
   "execution_count": null,
   "metadata": {},
   "outputs": [],
   "source": [
    "student=[]\n",
    "for _ in range(int(input())):\n",
    "    name = input()\n",
    "    score = float(input())\n",
    "    student.append([name,score])\n",
    "student"
   ]
  },
  {
   "cell_type": "code",
   "execution_count": null,
   "metadata": {},
   "outputs": [],
   "source": [
    "if __name__ == '__main__':\n",
    "    student=[]\n",
    "    scorelist=[]\n",
    "    last = []\n",
    "    for _ in range(int(input())):\n",
    "        name = input()\n",
    "        score = float(input())\n",
    "        student.append([name,score])\n",
    "\n",
    "    for i in range(len(student)):\n",
    "        scorelist.append(student[i][1])\n",
    "    M = min(scorelist)\n",
    "    scorelist.remove(M)\n",
    "    sM = min(scorelist)\n",
    "    for i in range(len(student)):\n",
    "        if student[i][1] == sM:\n",
    "            last.append(student[i][0])\n",
    "            G = sorted(last)\n",
    "            print(G)\n",
    "    for i in range(len(last)):\n",
    "        print(last[i])\n",
    "            \n",
    "\n",
    "\n",
    "\n"
   ]
  },
  {
   "cell_type": "code",
   "execution_count": null,
   "metadata": {},
   "outputs": [],
   "source": [
    "List = []\n",
    "N = int(input())\n",
    "i = 0\n",
    "while i != N: \n",
    "    M = map(str,input().split(' '))\n",
    "    J = list(M)\n",
    "    if J[0] == 'insert':\n",
    "        List[int(J[1])]=int(J[2])\n",
    "    elif J[0] == 'print':\n",
    "        print(List)\n",
    "    elif J[0] == 'remove':\n",
    "        List.remove(int(J[1]))\n",
    "    elif J[0] == 'append':\n",
    "        List.append(J[1])\n",
    "    elif J[0] == 'sort':\n",
    "        sorted(List)\n",
    "    elif J[0] == 'pop':\n",
    "        List.pop()\n",
    "    elif J[0] == 'reverse':\n",
    "        List.reverse()\n",
    "    i = i+1"
   ]
  },
  {
   "cell_type": "code",
   "execution_count": null,
   "metadata": {},
   "outputs": [],
   "source": [
    "List = []\n",
    "N = int(input())\n",
    "i = 0\n",
    "while i != N: \n",
    "    M = map(str,input().split(' '))\n",
    "    J = list(M)\n",
    "    if J[0] == 'insert':\n",
    "        List.insert(int(J[1]),int(J[2]))\n",
    "    elif J[0] == 'print':\n",
    "        print(List)\n",
    "    elif J[0] == 'remove':\n",
    "        List.remove(int(J[1]))\n",
    "    elif J[0] == 'append':\n",
    "        List.append(J[1])\n",
    "    elif J[0] == 'sort':\n",
    "        sorted(List)\n",
    "    elif J[0] == 'pop':\n",
    "        List.pop()\n",
    "    elif J[0] == 'reverse':\n",
    "        List.reverse()\n",
    "    i = i+1"
   ]
  },
  {
   "cell_type": "code",
   "execution_count": 7,
   "metadata": {},
   "outputs": [
    {
     "name": "stdout",
     "output_type": "stream",
     "text": [
      "ABCDCDC\n",
      "CDC\n",
      "2번째 글자부터 시작\n",
      "3도 동일\n",
      "4도 동일\n",
      "2번째글자 서치성공\n",
      "4번째 글자부터 시작\n",
      "5도 동일\n",
      "6도 동일\n",
      "4번째글자 서치성공\n",
      "2\n"
     ]
    }
   ],
   "source": [
    "#주어진 string내에 찾으려는 string이 몇개있는지 구하기\n",
    "\n",
    "def count_substring(string, sub_string):\n",
    "    #ABCDCDC\n",
    "    #CDC\n",
    "    \n",
    "    d = 0\n",
    "    for i in range(len(string)-len(sub_string)+1):\n",
    "        if string[i] == sub_string[0]:\n",
    "            c = 1\n",
    "            print(str(i)+\"번째 글자부터 시작\")\n",
    "            for a in range(1,len(sub_string)):\n",
    "                if string[i+a] == sub_string[0+a]:\n",
    "                    print(str(i+a)+\"도 동일\")\n",
    "                    c = c +1\n",
    "            if c ==len(sub_string):\n",
    "                print(str(i)+\"번째글자 서치성공\")\n",
    "                d = d + 1\n",
    "    return d\n",
    "\n",
    "if __name__ == '__main__':\n",
    "    string = input().strip()\n",
    "    sub_string = input().strip()\n",
    "    \n",
    "    count = count_substring(string, sub_string)\n",
    "    print(count)"
   ]
  },
  {
   "cell_type": "code",
   "execution_count": null,
   "metadata": {},
   "outputs": [],
   "source": [
    "print(ord(\"A\"))\n",
    "print(ord(\"Z\"))\n",
    "print(ord(\"a\"))\n",
    "print(ord(\"z\"))\n",
    "print(ord(\"9\"))\n",
    "s = \"qa2\"\n",
    "a = 0\n",
    "for i in range(len(s)):\n",
    "    if 65<=ord(s[i])<=90 or 97<=ord(s[i])<=122:\n",
    "        print(True)\n",
    "        a = a + 1\n",
    "        break\n",
    "    else:\n",
    "        pass\n",
    "if a == 0:\n",
    "    print(False)\n",
    "\n",
    "        \n",
    "            \n"
   ]
  },
  {
   "cell_type": "code",
   "execution_count": 9,
   "metadata": {},
   "outputs": [
    {
     "name": "stdout",
     "output_type": "stream",
     "text": [
      "ABCD\n",
      "EFGH\n",
      "IJKL\n",
      "IMNO\n",
      "QRST\n",
      "UVWX\n",
      "YZ\n"
     ]
    }
   ],
   "source": [
    "#주어진 string을 max_width만큼으로 자르기\n",
    "string = \"ABCDEFGHIJKLIMNOQRSTUVWXYZ\"\n",
    "max_width = 4\n",
    "s = \"\"\n",
    "for i in range(len(string)//max_width):\n",
    "    s = s +string[0+max_width*i:max_width+max_width*i]+'\\n'\n",
    "\n",
    "s = s + (string[max_width*(len(string)//max_width):])\n",
    "\n",
    "print(s)"
   ]
  },
  {
   "cell_type": "code",
   "execution_count": 10,
   "metadata": {},
   "outputs": [
    {
     "name": "stdout",
     "output_type": "stream",
     "text": [
      "9 9\n",
      "------------.|.------------\n",
      "---------.|..|..|.---------\n",
      "------.|..|..|..|..|.------\n",
      "---.|..|..|..|..|..|..|.---\n",
      "-WELCOME-\n",
      "---.|..|..|..|..|..|..|.---\n",
      "------.|..|..|..|..|.------\n",
      "---------.|..|..|.---------\n",
      "------------.|.------------\n"
     ]
    }
   ],
   "source": [
    "a,b = input().split()\n",
    "a = int(a)\n",
    "b = int(b)\n",
    "for i in range(a//2):\n",
    "    print('-'*(3*(a//2)-(3*i))+'.|.'*(1+2*i)+'-'*(3*(a//2)-(3*i)))\n",
    "    \n",
    "print('-'*(int((b-7)/2))+'WELCOME'+'-'*(int((b-7)/2)))\n",
    "\n",
    "for i in range(a//2):\n",
    "    print('-'*(3*(1+i))+'.|.'*((a-2)-2*i)+'-'*(3*(1+i)))"
   ]
  },
  {
   "cell_type": "code",
   "execution_count": 11,
   "metadata": {},
   "outputs": [
    {
     "name": "stdout",
     "output_type": "stream",
     "text": [
      "9\n",
      "i\n",
      "i\n",
      "----------------i----------------\n",
      "i-h\n",
      "i-h-i\n",
      "--------------i-h-i--------------\n",
      "i-h-g\n",
      "i-h-g-h-i\n",
      "------------i-h-g-h-i------------\n",
      "i-h-g-f\n",
      "i-h-g-f-g-h-i\n",
      "----------i-h-g-f-g-h-i----------\n",
      "i-h-g-f-e\n",
      "i-h-g-f-e-f-g-h-i\n",
      "--------i-h-g-f-e-f-g-h-i--------\n",
      "i-h-g-f-e-d\n",
      "i-h-g-f-e-d-e-f-g-h-i\n",
      "------i-h-g-f-e-d-e-f-g-h-i------\n",
      "i-h-g-f-e-d-c\n",
      "i-h-g-f-e-d-c-d-e-f-g-h-i\n",
      "----i-h-g-f-e-d-c-d-e-f-g-h-i----\n",
      "i-h-g-f-e-d-c-b\n",
      "i-h-g-f-e-d-c-b-c-d-e-f-g-h-i\n",
      "--i-h-g-f-e-d-c-b-c-d-e-f-g-h-i--\n",
      "i-h-g-f-e-d-c-b-a\n",
      "i-h-g-f-e-d-c-b-a-b-c-d-e-f-g-h-i\n",
      "i-h-g-f-e-d-c-b-a-b-c-d-e-f-g-h-i\n"
     ]
    }
   ],
   "source": [
    "n = int(input())\n",
    "for i in range(n):\n",
    "    s = \"-\".join(chr(ord('a')+n-j-1) for j in range(i+1))\n",
    "    print(s)\n",
    "    print(s+s[::-1][1:])\n",
    "    print((s+s[::-1][1:]).center(n*4-3, '-'))\n"
   ]
  },
  {
   "cell_type": "code",
   "execution_count": null,
   "metadata": {},
   "outputs": [],
   "source": [
    "List = [\"A\",\"E\",\"I\",\"O\",\"U\"]\n",
    "\n",
    "s = 'BANANA'\n",
    "STUART = 0\n",
    "KEVIN = 0\n",
    "\n",
    "for i in range(len(s)):\n",
    "    print(s[i])\n",
    "    if s[i] in List:\n",
    "        print(\"K\",s[i:])\n",
    "        KEVIN = KEVIN + len(s[i:])\n",
    "        print(KEVIN)\n",
    "    else:\n",
    "        print(\"S\",s[i:])\n",
    "        STUART = STUART + len(s[i:])\n",
    "        print(STUART)\n",
    "if STUART>KEVIN:\n",
    "    print(\"STUART\",STUART)\n",
    "elif STUART < KEVIN:\n",
    "    print(\"KEVIN\",KEVIN)\n",
    "else:\n",
    "    print(\"DRAW\")\n"
   ]
  },
  {
   "cell_type": "code",
   "execution_count": null,
   "metadata": {},
   "outputs": [],
   "source": [
    "string = 'AABCAAADA'\n",
    "k = 3\n",
    "l = int(len(string)/k)\n",
    "empty = []\n",
    "for i in range(l):\n",
    "    empty.append(string[0+3*i:3+3*i])\n",
    "    \n",
    "for i in range(len(empty)):\n",
    "    s = ''\n",
    "    for j in range(len(empty[i])):\n",
    "        if empty[i][j] not in s:\n",
    "            s = s + empty[i][j:j+1]\n",
    "    print(s)\n"
   ]
  },
  {
   "cell_type": "code",
   "execution_count": null,
   "metadata": {},
   "outputs": [],
   "source": [
    "def merge_the_tools(string, k):\n",
    "    # your code goes here\n",
    "    l = int(len(string)/k)\n",
    "    empty = []\n",
    "    for i in range(l):\n",
    "        empty.append(string[0+k*i:k+k*i])\n",
    "    \n",
    "    for i in range(len(empty)):\n",
    "        s = ''\n",
    "        for j in range(len(empty[i])):\n",
    "            if empty[i][j] not in s:\n",
    "                s = s + empty[i][j:j+1]\n",
    "        print(s)\n",
    "        print(empty)\n",
    "\n",
    "\n",
    "if __name__ == '__main__':\n",
    "    string, k = input(), int(input())\n",
    "    merge_the_tools(string, k)"
   ]
  },
  {
   "cell_type": "code",
   "execution_count": null,
   "metadata": {},
   "outputs": [],
   "source": [
    "from collections import Counter\n",
    "x = int(input())\n",
    "List = list(map(int,input().split(' ')))\n",
    "chart = Counter(List)\n",
    "y = int(input())\n",
    "money = 0\n",
    "for i in range(y):\n",
    "    c = list(map(int,input().split(' ')))\n",
    "    if chart[c[0]] ==0:\n",
    "        pass\n",
    "    else:\n",
    "        print('pass')\n",
    "        chart[c[0]] = chart[c[0]]-1\n",
    "        money = money + c[1]\n",
    "        \n",
    "print(money)\n",
    "    \n",
    "\n",
    "\n",
    "    "
   ]
  },
  {
   "cell_type": "code",
   "execution_count": null,
   "metadata": {},
   "outputs": [],
   "source": [
    "from collections import defaultdict\n",
    "d = defaultdict(list)\n",
    "d['python'].append(\"awesome\")\n",
    "d['something-else'].append(\"not relevant\")\n",
    "d['python'].append(\"language\")\n",
    "for i in d.items():\n",
    "    print(i)\n",
    "    print(type(i))"
   ]
  },
  {
   "cell_type": "code",
   "execution_count": 2,
   "metadata": {},
   "outputs": [
    {
     "name": "stdout",
     "output_type": "stream",
     "text": [
      "1 1\n",
      "ㄴ\n",
      "ㅅ\n",
      "-1\n",
      "['ㄴ']\n",
      "['ㅅ']\n"
     ]
    }
   ],
   "source": [
    "#두 수를 입력 후 입력한 수만큼의 문자열입력 후 두번째 입력한 수만큼에 해당하는 문자열이 첫번째로 입력한 수만큼의 해당되는 문자열에서 몇번째에 존재하는지 출력 없으면 -1출력\n",
    "from collections import defaultdict\n",
    "d= defaultdict(list)\n",
    "D = defaultdict(list)\n",
    "m,n = map(int,input().split(' '))\n",
    "for i in range(1,m+1):\n",
    "    i = str(input())\n",
    "    d[m].append(i)\n",
    "    \n",
    "for j in range(1,n+1):\n",
    "    j = str(input())\n",
    "    D[n].append(j)\n",
    "\n",
    "\n",
    "for k in D[n]:\n",
    "    empty = []\n",
    "    e = 1\n",
    "    if k not in d[m]:\n",
    "            print(-1)\n",
    "    elif k in d[m]:\n",
    "        for l in d[m]:\n",
    "            if k == l:\n",
    "                empty.append(str(e))\n",
    "                e = e + 1\n",
    "            elif k !=l:\n",
    "                e = e + 1\n",
    "        a = ' '.join(empty)\n",
    "        print(a)\n",
    "print(d[m])\n",
    "print(D[n])\n",
    "#[a,a,b,a,b],[a,b]\n",
    "\n",
    "    \n",
    "    \n"
   ]
  },
  {
   "cell_type": "code",
   "execution_count": null,
   "metadata": {},
   "outputs": [],
   "source": [
    "from collections import defaultdict\n",
    "d= defaultdict(list)\n",
    "D = defaultdict(list)\n",
    "m,n = map(int,input().split(' '))\n",
    "for i in range(1,m+1):\n",
    "    i = str(input())\n",
    "    print(i)\n",
    "    d[m].append(i)\n",
    "    print(d[m])\n",
    "    print(D[n])\n",
    "    \n",
    "for j in range(1,n+1):\n",
    "    j = str(input())\n",
    "    print(j)\n",
    "    d[n].append(j)\n",
    "    print(d[m])\n",
    "    print(d[n])\n",
    "    \n"
   ]
  },
  {
   "cell_type": "code",
   "execution_count": null,
   "metadata": {},
   "outputs": [],
   "source": [
    "a = ' '.join(input().split(' '))\n",
    "print(a)"
   ]
  },
  {
   "cell_type": "code",
   "execution_count": null,
   "metadata": {},
   "outputs": [],
   "source": [
    "#정수로 이루어진 두 리스트에서 뽑을 수 있는 경우의 수\n",
    "from itertools import product\n",
    "s = ''\n",
    "a = list(map(int,input().split(' ')))\n",
    "b = list(map(int,input().split(' ')))\n",
    "\n",
    "c = list(product(a,b))\n",
    "for i in c:\n",
    "    s = s + str(i)+' '\n",
    "s"
   ]
  },
  {
   "cell_type": "code",
   "execution_count": null,
   "metadata": {},
   "outputs": [],
   "source": [
    "#input='단어' 숫자\n",
    "#단어 내 글자의 숫자만큼의 순열\n",
    "from itertools import permutations\n",
    "word = list(map(str,input().split(' ')))\n",
    "empty = []\n",
    "for i in word[0]:\n",
    "    empty.append(i)\n",
    "    \n",
    "perlist = sorted(list(permutations(empty,2)))\n",
    "for i in range(len(perlist)):\n",
    "    s = ''\n",
    "    for j in range(int(word[1])):\n",
    "        s = s + perlist[i][j]\n",
    "    print(s)\n"
   ]
  },
  {
   "cell_type": "code",
   "execution_count": null,
   "metadata": {},
   "outputs": [],
   "source": [
    "#input='단어' 숫자\n",
    "#단어 내 글자의 1부터 숫자까지의 조합\n",
    "from itertools import combinations\n",
    "s = list(map(str,input().split(' ')))\n",
    "word = s[0]\n",
    "num = int(s[1])\n",
    "    \n",
    "    \n",
    "for i in range(1,num+1):\n",
    "    com = sorted((combinations(word,i)))\n",
    "    s = []\n",
    "    for j in com:\n",
    "        s.append(sorted(j))\n",
    "    \n",
    "    for k in sorted(s):\n",
    "        t = ''\n",
    "        for l in range(len(k)):\n",
    "            t = t+k[l]\n",
    "        print(t)\n",
    "        "
   ]
  },
  {
   "cell_type": "code",
   "execution_count": null,
   "metadata": {},
   "outputs": [],
   "source": [
    "import cmath\n",
    "\n",
    "abs(complex(1.0,2.0))\n",
    "cmath.phase(complex(1.0,2.0))"
   ]
  },
  {
   "cell_type": "code",
   "execution_count": null,
   "metadata": {},
   "outputs": [],
   "source": [
    "#복소수 표현\n",
    "num = complex(input())\n",
    "print(abs(complex(num.real,num.imag)))\n",
    "print(cmath.phase(complex(num.real,num.imag)))"
   ]
  },
  {
   "cell_type": "code",
   "execution_count": null,
   "metadata": {},
   "outputs": [],
   "source": [
    "#배열 내 평균\n",
    "List = list(set(array))\n",
    "a = 0\n",
    "for i in list:\n",
    "\n",
    "    a = a + i\n",
    "print(a/len(List))"
   ]
  },
  {
   "cell_type": "code",
   "execution_count": null,
   "metadata": {},
   "outputs": [],
   "source": [
    "#M과 N의 차집합 원소들을 오름차순으로 출력\n",
    "M = int(input())\n",
    "m = set(map(int,input().split(' ')))\n",
    "N = int(input())\n",
    "n = set(map(int,input().split(' ')))\n",
    "empty = set()\n",
    "mn = m.difference(n)\n",
    "for i in mn:\n",
    "    empty.add(i)\n",
    "nm = n.difference(m)\n",
    "for i in nm:\n",
    "    empty.add(i)\n",
    "for i in sorted(empty):\n",
    "    print(i)\n"
   ]
  },
  {
   "cell_type": "code",
   "execution_count": null,
   "metadata": {},
   "outputs": [],
   "source": [
    "setnum = list(map(int,input().split(' ')))\n",
    "mynum = set(map(int,input().split(' ')))\n",
    "A = set(map(int,input().split(' ')))\n",
    "B = set(map(int,input().split(' ')))\n",
    "value = 0\n",
    "\n",
    "value = value -len(mynum.difference(A)) + len(mynum.difference(B))\n",
    "\n",
    "        \n",
    "print(value)"
   ]
  },
  {
   "cell_type": "code",
   "execution_count": 4,
   "metadata": {},
   "outputs": [
    {
     "name": "stdout",
     "output_type": "stream",
     "text": [
      "Y\n",
      "<class '__main__.Car'>\n"
     ]
    }
   ],
   "source": [
    "from collections import namedtuple\n",
    "Car = namedtuple('Car','Price Mileage Colour Class')\n",
    "xyz=Car(Price = 100000,Mileage = 30,Colour = 'Cyan',Class = 'Y')\n",
    "print(xyz.Class)"
   ]
  },
  {
   "cell_type": "code",
   "execution_count": 17,
   "metadata": {},
   "outputs": [
    {
     "name": "stdout",
     "output_type": "stream",
     "text": [
      "08 05 2015\n",
      "WEDNESDAY\n"
     ]
    }
   ],
   "source": [
    "# 월 일 년을 차례대로 입력하면 해당날의 요일을 출력\n",
    "import calendar\n",
    "\n",
    "month,day,year = map(int,input().split(' '))\n",
    "weekday = calendar.weekday(year,month,day)\n",
    "if weekday == 6:\n",
    "    print('SUNDAY')\n",
    "elif weekday ==0:\n",
    "    print('MONDAY')\n",
    "elif weekday ==1:\n",
    "    print('TUESDAY')\n",
    "elif weekday == 2:\n",
    "    print('WEDNESDAY')\n",
    "elif weekday ==3:\n",
    "    print('THURSDAY')\n",
    "elif weekday ==4:\n",
    "    print('FRIDAY')\n",
    "elif weekday ==5:\n",
    "    print('SATURDAY')\n"
   ]
  },
  {
   "cell_type": "code",
   "execution_count": 33,
   "metadata": {},
   "outputs": [
    {
     "ename": "ZeroDivisionError",
     "evalue": "division by zero",
     "output_type": "error",
     "traceback": [
      "\u001b[1;31m---------------------------------------------------------------------------\u001b[0m",
      "\u001b[1;31mZeroDivisionError\u001b[0m                         Traceback (most recent call last)",
      "\u001b[1;32m<ipython-input-33-2a8946aef1ff>\u001b[0m in \u001b[0;36m<module>\u001b[1;34m\u001b[0m\n\u001b[0;32m      1\u001b[0m \u001b[0ma\u001b[0m \u001b[1;33m=\u001b[0m \u001b[1;34m'1'\u001b[0m\u001b[1;33m\u001b[0m\u001b[1;33m\u001b[0m\u001b[0m\n\u001b[0;32m      2\u001b[0m \u001b[0mb\u001b[0m \u001b[1;33m=\u001b[0m \u001b[1;34m'0'\u001b[0m\u001b[1;33m\u001b[0m\u001b[1;33m\u001b[0m\u001b[0m\n\u001b[1;32m----> 3\u001b[1;33m \u001b[0mprint\u001b[0m\u001b[1;33m(\u001b[0m\u001b[0mint\u001b[0m\u001b[1;33m(\u001b[0m\u001b[0ma\u001b[0m\u001b[1;33m)\u001b[0m\u001b[1;33m/\u001b[0m\u001b[0mint\u001b[0m\u001b[1;33m(\u001b[0m\u001b[0mb\u001b[0m\u001b[1;33m)\u001b[0m\u001b[1;33m)\u001b[0m\u001b[1;33m\u001b[0m\u001b[1;33m\u001b[0m\u001b[0m\n\u001b[0m",
      "\u001b[1;31mZeroDivisionError\u001b[0m: division by zero"
     ]
    }
   ],
   "source": [
    "a = '1'\n",
    "b = '0'\n",
    "print(int(a)/int(b))\n"
   ]
  },
  {
   "cell_type": "code",
   "execution_count": 32,
   "metadata": {},
   "outputs": [
    {
     "name": "stdout",
     "output_type": "stream",
     "text": [
      "Error Code: division by zero\n"
     ]
    }
   ],
   "source": [
    "try:\n",
    "    print(1/0)\n",
    "except ZeroDivisionError as e:\n",
    "    print(\"Error Code:\",e)"
   ]
  },
  {
   "cell_type": "code",
   "execution_count": 31,
   "metadata": {},
   "outputs": [
    {
     "name": "stdout",
     "output_type": "stream",
     "text": [
      "3\n",
      "1 0\n",
      "Error Code:  division by zero\n",
      "2 s\n",
      "Error Code:  invalid literal for int() with base 10: 's'\n",
      "3 1\n",
      "3\n"
     ]
    }
   ],
   "source": [
    "T = int(input())\n",
    "for i in range(T):\n",
    "    a,b = input().split(' ')\n",
    "    try:\n",
    "        print(int(int(a)/int(b)))\n",
    "    except ZeroDivisionError as e:\n",
    "        print(\"Error Code: \",e)\n",
    "    except ValueError as f:\n",
    "        print(\"Error Code: \",f)"
   ]
  },
  {
   "cell_type": "code",
   "execution_count": 25,
   "metadata": {},
   "outputs": [
    {
     "name": "stdout",
     "output_type": "stream",
     "text": [
      "1 s\n"
     ]
    },
    {
     "ename": "ValueError",
     "evalue": "invalid literal for int() with base 10: 's'",
     "output_type": "error",
     "traceback": [
      "\u001b[1;31m---------------------------------------------------------------------------\u001b[0m",
      "\u001b[1;31mValueError\u001b[0m                                Traceback (most recent call last)",
      "\u001b[1;32m<ipython-input-25-11fb9e546eaf>\u001b[0m in \u001b[0;36m<module>\u001b[1;34m\u001b[0m\n\u001b[1;32m----> 1\u001b[1;33m \u001b[0mc\u001b[0m\u001b[1;33m,\u001b[0m\u001b[0md\u001b[0m \u001b[1;33m=\u001b[0m \u001b[0mmap\u001b[0m\u001b[1;33m(\u001b[0m\u001b[0mint\u001b[0m\u001b[1;33m,\u001b[0m\u001b[0minput\u001b[0m\u001b[1;33m(\u001b[0m\u001b[1;33m)\u001b[0m\u001b[1;33m.\u001b[0m\u001b[0msplit\u001b[0m\u001b[1;33m(\u001b[0m\u001b[1;34m' '\u001b[0m\u001b[1;33m)\u001b[0m\u001b[1;33m)\u001b[0m\u001b[1;33m\u001b[0m\u001b[1;33m\u001b[0m\u001b[0m\n\u001b[0m\u001b[0;32m      2\u001b[0m \u001b[0mprint\u001b[0m\u001b[1;33m(\u001b[0m\u001b[0mc\u001b[0m\u001b[1;33m)\u001b[0m\u001b[1;33m\u001b[0m\u001b[1;33m\u001b[0m\u001b[0m\n\u001b[0;32m      3\u001b[0m \u001b[0mprint\u001b[0m\u001b[1;33m(\u001b[0m\u001b[0md\u001b[0m\u001b[1;33m)\u001b[0m\u001b[1;33m\u001b[0m\u001b[1;33m\u001b[0m\u001b[0m\n",
      "\u001b[1;31mValueError\u001b[0m: invalid literal for int() with base 10: 's'"
     ]
    }
   ],
   "source": [
    "c,d = map(int,input().split(' '))\n",
    "print(c)\n",
    "print(d)"
   ]
  }
 ],
 "metadata": {
  "kernelspec": {
   "display_name": "Python 3",
   "language": "python",
   "name": "python3"
  },
  "language_info": {
   "codemirror_mode": {
    "name": "ipython",
    "version": 3
   },
   "file_extension": ".py",
   "mimetype": "text/x-python",
   "name": "python",
   "nbconvert_exporter": "python",
   "pygments_lexer": "ipython3",
   "version": "3.7.1"
  }
 },
 "nbformat": 4,
 "nbformat_minor": 2
}
